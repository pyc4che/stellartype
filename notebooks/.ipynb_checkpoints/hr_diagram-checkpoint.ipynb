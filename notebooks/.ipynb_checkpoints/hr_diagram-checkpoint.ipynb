{
 "cells": [
  {
   "cell_type": "markdown",
   "id": "bd7f713a-b5b8-4e56-b352-c87ced120d4a",
   "metadata": {},
   "source": [
    "# Ruqired Pacakges"
   ]
  },
  {
   "cell_type": "markdown",
   "id": "8addddae-d2e4-45b4-8457-a386a9bc32ce",
   "metadata": {},
   "source": [
    "Eng: Since we will be working with data, we will need some packages. Such as: numpy, pandas, and matplotlib.\n",
    "\n",
    "---\n",
    "\n",
    "Ukr: Оскільки ми будемо працювати з даними, нам знадобляться деякі пакети. Такі як: numpy, pandas та matplotlib."
   ]
  },
  {
   "cell_type": "code",
   "execution_count": 2,
   "id": "d65b588d-2714-4dba-a4f1-119366dc3412",
   "metadata": {},
   "outputs": [
    {
     "name": "stdout",
     "output_type": "stream",
     "text": [
      "Requirement already satisfied: numpy in /home/nietzsche/stellartype/.venv/lib/python3.11/site-packages (1.26.1)\n",
      "Requirement already satisfied: pandas in /home/nietzsche/stellartype/.venv/lib/python3.11/site-packages (2.1.2)\n",
      "Requirement already satisfied: matplotlib in /home/nietzsche/stellartype/.venv/lib/python3.11/site-packages (3.8.0)\n",
      "Requirement already satisfied: python-dateutil>=2.8.2 in /home/nietzsche/stellartype/.venv/lib/python3.11/site-packages (from pandas) (2.8.2)\n",
      "Requirement already satisfied: pytz>=2020.1 in /home/nietzsche/stellartype/.venv/lib/python3.11/site-packages (from pandas) (2023.3.post1)\n",
      "Requirement already satisfied: tzdata>=2022.1 in /home/nietzsche/stellartype/.venv/lib/python3.11/site-packages (from pandas) (2023.3)\n",
      "Requirement already satisfied: contourpy>=1.0.1 in /home/nietzsche/stellartype/.venv/lib/python3.11/site-packages (from matplotlib) (1.1.1)\n",
      "Requirement already satisfied: cycler>=0.10 in /home/nietzsche/stellartype/.venv/lib/python3.11/site-packages (from matplotlib) (0.12.1)\n",
      "Requirement already satisfied: fonttools>=4.22.0 in /home/nietzsche/stellartype/.venv/lib/python3.11/site-packages (from matplotlib) (4.43.1)\n",
      "Requirement already satisfied: kiwisolver>=1.0.1 in /home/nietzsche/stellartype/.venv/lib/python3.11/site-packages (from matplotlib) (1.4.5)\n",
      "Requirement already satisfied: packaging>=20.0 in /home/nietzsche/stellartype/.venv/lib/python3.11/site-packages (from matplotlib) (23.2)\n",
      "Requirement already satisfied: pillow>=6.2.0 in /home/nietzsche/stellartype/.venv/lib/python3.11/site-packages (from matplotlib) (10.1.0)\n",
      "Requirement already satisfied: pyparsing>=2.3.1 in /home/nietzsche/stellartype/.venv/lib/python3.11/site-packages (from matplotlib) (3.1.1)\n",
      "Requirement already satisfied: six>=1.5 in /home/nietzsche/stellartype/.venv/lib/python3.11/site-packages (from python-dateutil>=2.8.2->pandas) (1.16.0)\n"
     ]
    }
   ],
   "source": [
    "import sys \n",
    "!{sys.executable} -m pip install numpy pandas matplotlib"
   ]
  },
  {
   "cell_type": "markdown",
   "id": "2397caa2-dba7-4c05-a432-f0c73273483a",
   "metadata": {},
   "source": [
    "# Data Processing"
   ]
  },
  {
   "cell_type": "markdown",
   "id": "c58e30dc-776d-4093-aae3-641d1230aad5",
   "metadata": {},
   "source": [
    "Eng: First of all we have to read the .csv file which contains data about stars. For this we are going to use pandas module.\n",
    "\n",
    "---\n",
    "\n",
    "Ukr: Перш за все, нам потрібно прочитати файл .csv, який містить дані про зорі. Для цього ми скористаємося модулем pandas."
   ]
  },
  {
   "cell_type": "markdown",
   "id": "9cac3bb6-07b7-45bb-935a-d4a659f88f78",
   "metadata": {},
   "source": [
    "## Importing modules"
   ]
  },
  {
   "cell_type": "code",
   "execution_count": 3,
   "id": "8fe0675a-7172-462e-ad01-76aec6bcaa66",
   "metadata": {},
   "outputs": [],
   "source": [
    "import pandas as pd"
   ]
  },
  {
   "cell_type": "markdown",
   "id": "3839e404-6525-4e49-9692-77012fe95a99",
   "metadata": {},
   "source": [
    "## Dataset"
   ]
  },
  {
   "cell_type": "code",
   "execution_count": 4,
   "id": "78cc9d67-b079-497e-bf44-a18aa19941c1",
   "metadata": {},
   "outputs": [],
   "source": [
    "dataset = pd.read_csv(\n",
    "    '../data/stars.csv'\n",
    ")"
   ]
  },
  {
   "cell_type": "code",
   "execution_count": 5,
   "id": "75b3edf8-f8b6-4e79-b435-678da59f4720",
   "metadata": {},
   "outputs": [
    {
     "data": {
      "text/html": [
       "<div>\n",
       "<style scoped>\n",
       "    .dataframe tbody tr th:only-of-type {\n",
       "        vertical-align: middle;\n",
       "    }\n",
       "\n",
       "    .dataframe tbody tr th {\n",
       "        vertical-align: top;\n",
       "    }\n",
       "\n",
       "    .dataframe thead th {\n",
       "        text-align: right;\n",
       "    }\n",
       "</style>\n",
       "<table border=\"1\" class=\"dataframe\">\n",
       "  <thead>\n",
       "    <tr style=\"text-align: right;\">\n",
       "      <th></th>\n",
       "      <th>Temperature (K)</th>\n",
       "      <th>Luminosity(L/Lo)</th>\n",
       "      <th>Radius(R/Ro)</th>\n",
       "      <th>Absolute magnitude(Mv)</th>\n",
       "      <th>Star type</th>\n",
       "      <th>Star color</th>\n",
       "      <th>Spectral Class</th>\n",
       "    </tr>\n",
       "  </thead>\n",
       "  <tbody>\n",
       "    <tr>\n",
       "      <th>0</th>\n",
       "      <td>3068</td>\n",
       "      <td>0.002400</td>\n",
       "      <td>0.1700</td>\n",
       "      <td>16.12</td>\n",
       "      <td>0</td>\n",
       "      <td>Red</td>\n",
       "      <td>M</td>\n",
       "    </tr>\n",
       "    <tr>\n",
       "      <th>1</th>\n",
       "      <td>3042</td>\n",
       "      <td>0.000500</td>\n",
       "      <td>0.1542</td>\n",
       "      <td>16.60</td>\n",
       "      <td>0</td>\n",
       "      <td>Red</td>\n",
       "      <td>M</td>\n",
       "    </tr>\n",
       "    <tr>\n",
       "      <th>2</th>\n",
       "      <td>2600</td>\n",
       "      <td>0.000300</td>\n",
       "      <td>0.1020</td>\n",
       "      <td>18.70</td>\n",
       "      <td>0</td>\n",
       "      <td>Red</td>\n",
       "      <td>M</td>\n",
       "    </tr>\n",
       "    <tr>\n",
       "      <th>3</th>\n",
       "      <td>2800</td>\n",
       "      <td>0.000200</td>\n",
       "      <td>0.1600</td>\n",
       "      <td>16.65</td>\n",
       "      <td>0</td>\n",
       "      <td>Red</td>\n",
       "      <td>M</td>\n",
       "    </tr>\n",
       "    <tr>\n",
       "      <th>4</th>\n",
       "      <td>1939</td>\n",
       "      <td>0.000138</td>\n",
       "      <td>0.1030</td>\n",
       "      <td>20.06</td>\n",
       "      <td>0</td>\n",
       "      <td>Red</td>\n",
       "      <td>M</td>\n",
       "    </tr>\n",
       "    <tr>\n",
       "      <th>...</th>\n",
       "      <td>...</td>\n",
       "      <td>...</td>\n",
       "      <td>...</td>\n",
       "      <td>...</td>\n",
       "      <td>...</td>\n",
       "      <td>...</td>\n",
       "      <td>...</td>\n",
       "    </tr>\n",
       "    <tr>\n",
       "      <th>235</th>\n",
       "      <td>38940</td>\n",
       "      <td>374830.000000</td>\n",
       "      <td>1356.0000</td>\n",
       "      <td>-9.93</td>\n",
       "      <td>5</td>\n",
       "      <td>Blue</td>\n",
       "      <td>O</td>\n",
       "    </tr>\n",
       "    <tr>\n",
       "      <th>236</th>\n",
       "      <td>30839</td>\n",
       "      <td>834042.000000</td>\n",
       "      <td>1194.0000</td>\n",
       "      <td>-10.63</td>\n",
       "      <td>5</td>\n",
       "      <td>Blue</td>\n",
       "      <td>O</td>\n",
       "    </tr>\n",
       "    <tr>\n",
       "      <th>237</th>\n",
       "      <td>8829</td>\n",
       "      <td>537493.000000</td>\n",
       "      <td>1423.0000</td>\n",
       "      <td>-10.73</td>\n",
       "      <td>5</td>\n",
       "      <td>White</td>\n",
       "      <td>A</td>\n",
       "    </tr>\n",
       "    <tr>\n",
       "      <th>238</th>\n",
       "      <td>9235</td>\n",
       "      <td>404940.000000</td>\n",
       "      <td>1112.0000</td>\n",
       "      <td>-11.23</td>\n",
       "      <td>5</td>\n",
       "      <td>White</td>\n",
       "      <td>A</td>\n",
       "    </tr>\n",
       "    <tr>\n",
       "      <th>239</th>\n",
       "      <td>37882</td>\n",
       "      <td>294903.000000</td>\n",
       "      <td>1783.0000</td>\n",
       "      <td>-7.80</td>\n",
       "      <td>5</td>\n",
       "      <td>Blue</td>\n",
       "      <td>O</td>\n",
       "    </tr>\n",
       "  </tbody>\n",
       "</table>\n",
       "<p>240 rows × 7 columns</p>\n",
       "</div>"
      ],
      "text/plain": [
       "     Temperature (K)  Luminosity(L/Lo)  Radius(R/Ro)  Absolute magnitude(Mv)  \\\n",
       "0               3068          0.002400        0.1700                   16.12   \n",
       "1               3042          0.000500        0.1542                   16.60   \n",
       "2               2600          0.000300        0.1020                   18.70   \n",
       "3               2800          0.000200        0.1600                   16.65   \n",
       "4               1939          0.000138        0.1030                   20.06   \n",
       "..               ...               ...           ...                     ...   \n",
       "235            38940     374830.000000     1356.0000                   -9.93   \n",
       "236            30839     834042.000000     1194.0000                  -10.63   \n",
       "237             8829     537493.000000     1423.0000                  -10.73   \n",
       "238             9235     404940.000000     1112.0000                  -11.23   \n",
       "239            37882     294903.000000     1783.0000                   -7.80   \n",
       "\n",
       "     Star type Star color Spectral Class  \n",
       "0            0        Red              M  \n",
       "1            0        Red              M  \n",
       "2            0        Red              M  \n",
       "3            0        Red              M  \n",
       "4            0        Red              M  \n",
       "..         ...        ...            ...  \n",
       "235          5       Blue              O  \n",
       "236          5       Blue              O  \n",
       "237          5      White              A  \n",
       "238          5      White              A  \n",
       "239          5       Blue              O  \n",
       "\n",
       "[240 rows x 7 columns]"
      ]
     },
     "execution_count": 5,
     "metadata": {},
     "output_type": "execute_result"
    }
   ],
   "source": [
    "dataset"
   ]
  },
  {
   "cell_type": "markdown",
   "id": "a33f8533-b93d-4199-9dfa-e39d0c1598ee",
   "metadata": {},
   "source": [
    "# Processing Star Classes"
   ]
  },
  {
   "cell_type": "markdown",
   "id": "275294e2-a6b8-4b98-a557-f778e17321c7",
   "metadata": {},
   "source": [
    "Eng: Basicly, the HR (Hertzsprung-Russell) diagram classes depend on the temepature and luminosity of the star.\n",
    "Now we are going to create small so-called subdatasets, that contain the classes of the stars that are given.\n",
    "\n",
    "---\n",
    "\n",
    "Ukr: В основному, класи діаграми HR (Герцшпрунга-Рассела) залежать від температури і світності зорі.\n",
    "Тепер ми створимо невеликі так звані підмножини даних, які містять класи зірок, що задані."
   ]
  },
  {
   "cell_type": "code",
   "execution_count": 6,
   "id": "54c58232-0bf6-4438-bb3f-b8dc35619f59",
   "metadata": {},
   "outputs": [],
   "source": [
    "classifications = [\n",
    "    'O', 'B', 'A', \n",
    "    'F', 'G', 'K', \n",
    "         'M'\n",
    "]\n",
    "class_data = {\n",
    "    \n",
    "}\n",
    "\n",
    "for classification in classifications:\n",
    "    class_data[classification] = dataset[dataset[\"Spectral Class\"] == classification]\n"
   ]
  },
  {
   "cell_type": "markdown",
   "id": "4a3afda7-e753-4052-afa6-6f305de3283b",
   "metadata": {},
   "source": [
    "# Data Visualization"
   ]
  },
  {
   "cell_type": "markdown",
   "id": "a75f6da8-9489-49c6-88e1-b60a6c1224f3",
   "metadata": {},
   "source": [
    "Eng: Now after the processing of our data, we can esialy visualize the data. For your understanding the HR diagram bases on the star's logorithm of temptrutare versus star's logorithm of luminosity. \n",
    "For the visualization we are going to use matplotlib and for the logorithm we will use numpy.\n",
    "\n",
    "---\n",
    "\n",
    "Ukr: Тепер, після обробки наших даних, ми можемо їх візуалізувати. Для розуміння, HR-діаграма базується на логорифмічному відношенні темперетури зорі до логорифму світності зорі. \n",
    "Для візуалізації ми будемо використовувати matplotlib, а для логарифмування - numpy."
   ]
  },
  {
   "cell_type": "markdown",
   "id": "7eb13028-5e01-465b-9139-a362b8b7cc65",
   "metadata": {},
   "source": [
    "## Importing modules  "
   ]
  },
  {
   "cell_type": "code",
   "execution_count": 7,
   "id": "9a8961c9-5718-48e0-a797-01d943a8208d",
   "metadata": {},
   "outputs": [],
   "source": [
    "import numpy as np\n",
    "import matplotlib.pyplot as plt"
   ]
  },
  {
   "cell_type": "markdown",
   "id": "de84f0d7-8f8b-494e-a76a-ff129b23cdaf",
   "metadata": {},
   "source": [
    "## Plot Styling"
   ]
  },
  {
   "cell_type": "code",
   "execution_count": 8,
   "id": "f7f40738-87b8-4b50-8a5f-ab83f03128ed",
   "metadata": {},
   "outputs": [],
   "source": [
    "plt.style.use(\n",
    "    'ggplot'\n",
    ")"
   ]
  },
  {
   "cell_type": "markdown",
   "id": "ecad348c-bb8a-44e5-8be0-4f0c963f5bcb",
   "metadata": {},
   "source": [
    "## Scattering the data"
   ]
  },
  {
   "cell_type": "code",
   "execution_count": 14,
   "id": "23c757b2-7003-4e4a-b4cc-61b64e98f208",
   "metadata": {},
   "outputs": [
    {
     "data": {
      "image/png": "[encoded data removed]",
      "text/plain": [
       "<Figure size 640x480 with 1 Axes>"
      ]
     },
     "metadata": {},
     "output_type": "display_data"
    }
   ],
   "source": [
    "plt.grid()\n",
    "\n",
    "scatter_properties = {\n",
    "    'O': (10, 'O'), 'B': (8, 'B'), \n",
    "    'A': (6, 'A'), 'F': (4, 'F'), \n",
    "    'G': (3, 'G'), 'K': (2, 'K'), \n",
    "            'M': (1, 'M')\n",
    "}\n",
    "\n",
    "for spectral_class, (size, label) in scatter_properties.items():\n",
    "    data = class_data.get(\n",
    "        spectral_class, None\n",
    "    )\n",
    "    \n",
    "    if (data is not None):\n",
    "        plt.scatter(\n",
    "            np.log(data[\"Temperature (K)\"]), \n",
    "            np.log(data[\"Luminosity(L/Lo)\"]), \n",
    "            size, label=label)\n",
    "\n",
    "plt.gca().invert_xaxis()\n",
    "\n",
    "plt.title(\n",
    "    'Hertzsprung-Russell Diagram'\n",
    ")\n",
    "plt.ylabel(\n",
    "    'log(Luminosity)'\n",
    ")\n",
    "plt.xlabel(\n",
    "    'log(Temperature)'\n",
    ")\n",
    "\n",
    "plt.legend()\n",
    "plt.show()"
   ]
  },
  {
   "cell_type": "code",
   "execution_count": null,
   "id": "fd1b0187-eb49-46a8-8c46-84d044561a9d",
   "metadata": {},
   "outputs": [],
   "source": []
  }
 ],
 "metadata": {
  "kernelspec": {
   "display_name": "Python 3 (ipykernel)",
   "language": "python",
   "name": "python3"
  },
  "language_info": {
   "codemirror_mode": {
    "name": "ipython",
    "version": 3
   },
   "file_extension": ".py",
   "mimetype": "text/x-python",
   "name": "python",
   "nbconvert_exporter": "python",
   "pygments_lexer": "ipython3",
   "version": "3.11.5"
  }
 },
 "nbformat": 4,
 "nbformat_minor": 5
}

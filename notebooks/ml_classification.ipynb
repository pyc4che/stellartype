{
 "cells": [
  {
   "cell_type": "markdown",
   "id": "23f370cd-b28d-4f36-a389-338e7d2d9c10",
   "metadata": {},
   "source": [
    "# Annotation"
   ]
  },
  {
   "cell_type": "markdown",
   "id": "5725a2ae-efcd-4351-8a12-1ed9b9111d13",
   "metadata": {},
   "source": [
    "Eng: In the previous file `hr_diagram.ipynb` we have interpreted the HR-diagram using numpy. In this file we are going to interpret it with seaborn only, also we are going to make a model which will be taught to classify the stars.\n",
    "\n",
    "---\n",
    "\n",
    "Ukr: У попередньому файлі `hr_diagram.ipynb` ми інтерпретували HR-діаграму за допомогою numpy. У цьому файлі ми інтерпретуватимемо її лише за допомогою seaborn, а також створимо модель, яку буде навчено класифікувати зорі."
   ]
  },
  {
   "cell_type": "markdown",
   "id": "5dced65c-1b38-4bcc-b9de-769edbce24dc",
   "metadata": {},
   "source": [
    "# Required Packages"
   ]
  },
  {
   "cell_type": "markdown",
   "id": "3cf93035-d76c-4025-9762-015c1f3b0792",
   "metadata": {},
   "source": [
    "Eng: Since we will be working with data and machine learning process, we will need some packages. Such as: numpy, pandas, matplotlib, seaborn and scikit-learn.\n",
    "\n",
    "*UPD: adding joblib library to the requirements as we are going to save our trained model.*\n",
    "\n",
    "---\n",
    "\n",
    "Ukr: Оскільки ми будемо працювати з даними та процесом машинного навчання, нам знадобляться деякі пакети. Такі як: numpy, pandas, matplotlib, seaborn та scikit-learn.\n",
    "\n",
    "*UPD: додаємо бібліотеку joblib до вимог, оскільки ми збираємося зберегти нашу навчену модель.*"
   ]
  },
  {
   "cell_type": "code",
   "execution_count": 3,
   "id": "9a36ef16-50af-4358-8116-80e4b800b46f",
   "metadata": {},
   "outputs": [
    {
     "name": "stdout",
     "output_type": "stream",
     "text": [
      "Requirement already satisfied: numpy in /home/nietzsche/stellartype/.venv/lib/python3.11/site-packages (1.26.1)\n",
      "Requirement already satisfied: pandas in /home/nietzsche/stellartype/.venv/lib/python3.11/site-packages (2.1.2)\n",
      "Requirement already satisfied: matplotlib in /home/nietzsche/stellartype/.venv/lib/python3.11/site-packages (3.8.0)\n",
      "Requirement already satisfied: seaborn in /home/nietzsche/stellartype/.venv/lib/python3.11/site-packages (0.13.0)\n",
      "Requirement already satisfied: scikit-learn in /home/nietzsche/stellartype/.venv/lib/python3.11/site-packages (1.3.2)\n",
      "Requirement already satisfied: python-dateutil>=2.8.2 in /home/nietzsche/stellartype/.venv/lib/python3.11/site-packages (from pandas) (2.8.2)\n",
      "Requirement already satisfied: pytz>=2020.1 in /home/nietzsche/stellartype/.venv/lib/python3.11/site-packages (from pandas) (2023.3.post1)\n",
      "Requirement already satisfied: tzdata>=2022.1 in /home/nietzsche/stellartype/.venv/lib/python3.11/site-packages (from pandas) (2023.3)\n",
      "Requirement already satisfied: contourpy>=1.0.1 in /home/nietzsche/stellartype/.venv/lib/python3.11/site-packages (from matplotlib) (1.1.1)\n",
      "Requirement already satisfied: cycler>=0.10 in /home/nietzsche/stellartype/.venv/lib/python3.11/site-packages (from matplotlib) (0.12.1)\n",
      "Requirement already satisfied: fonttools>=4.22.0 in /home/nietzsche/stellartype/.venv/lib/python3.11/site-packages (from matplotlib) (4.43.1)\n",
      "Requirement already satisfied: kiwisolver>=1.0.1 in /home/nietzsche/stellartype/.venv/lib/python3.11/site-packages (from matplotlib) (1.4.5)\n",
      "Requirement already satisfied: packaging>=20.0 in /home/nietzsche/stellartype/.venv/lib/python3.11/site-packages (from matplotlib) (23.2)\n",
      "Requirement already satisfied: pillow>=6.2.0 in /home/nietzsche/stellartype/.venv/lib/python3.11/site-packages (from matplotlib) (10.1.0)\n",
      "Requirement already satisfied: pyparsing>=2.3.1 in /home/nietzsche/stellartype/.venv/lib/python3.11/site-packages (from matplotlib) (3.1.1)\n",
      "Requirement already satisfied: scipy>=1.5.0 in /home/nietzsche/stellartype/.venv/lib/python3.11/site-packages (from scikit-learn) (1.11.3)\n",
      "Requirement already satisfied: joblib>=1.1.1 in /home/nietzsche/stellartype/.venv/lib/python3.11/site-packages (from scikit-learn) (1.3.2)\n",
      "Requirement already satisfied: threadpoolctl>=2.0.0 in /home/nietzsche/stellartype/.venv/lib/python3.11/site-packages (from scikit-learn) (3.2.0)\n",
      "Requirement already satisfied: six>=1.5 in /home/nietzsche/stellartype/.venv/lib/python3.11/site-packages (from python-dateutil>=2.8.2->pandas) (1.16.0)\n"
     ]
    }
   ],
   "source": [
    "import sys\n",
    "!{sys.executable} -m pip install numpy pandas matplotlib seaborn scikit-learn"
   ]
  },
  {
   "cell_type": "markdown",
   "id": "80d1b03d-b706-49c7-a885-b30b445ee9f5",
   "metadata": {},
   "source": [
    "## Installing joblib"
   ]
  },
  {
   "cell_type": "code",
   "execution_count": 4,
   "id": "e10c9205-8a79-4e09-9388-b61934aa9d31",
   "metadata": {},
   "outputs": [
    {
     "name": "stdout",
     "output_type": "stream",
     "text": [
      "Requirement already satisfied: joblib in /home/nietzsche/stellartype/.venv/lib/python3.11/site-packages (1.3.2)\n"
     ]
    }
   ],
   "source": [
    "!{sys.executable} -m pip install joblib"
   ]
  },
  {
   "cell_type": "markdown",
   "id": "fc971b36-3dd3-4c8f-8237-2ae39427479e",
   "metadata": {},
   "source": [
    "# Data Processing "
   ]
  },
  {
   "cell_type": "markdown",
   "id": "5ea3114a-642d-4ae4-9de4-fc1dbf488c99",
   "metadata": {},
   "source": [
    "Eng: First of all we have to read the .csv file which contains data about stars. For this we are going to use pandas module.\n",
    "\n",
    "---\n",
    "    \n",
    "Ukr: Перш за все, нам потрібно прочитати файл .csv, який містить дані про зорі. Для цього ми скористаємося модулем pandas."
   ]
  },
  {
   "cell_type": "markdown",
   "id": "94fa260e-2378-4c5e-afea-ed71369d1083",
   "metadata": {},
   "source": [
    "## Importing modules"
   ]
  },
  {
   "cell_type": "code",
   "execution_count": 5,
   "id": "be986881-97e9-41d1-aca9-590134b9c246",
   "metadata": {},
   "outputs": [],
   "source": [
    "import pandas as pd"
   ]
  },
  {
   "cell_type": "markdown",
   "id": "2c8a1ddf-1c6b-4dd3-a20f-766d1650d8b4",
   "metadata": {},
   "source": [
    "## Dataset"
   ]
  },
  {
   "cell_type": "code",
   "execution_count": 6,
   "id": "8aa970c9-97c1-479e-9746-7b1c7391baaa",
   "metadata": {},
   "outputs": [],
   "source": [
    "dataset = pd.read_csv(\n",
    "    '../data/stars.csv' \n",
    ")"
   ]
  },
  {
   "cell_type": "markdown",
   "id": "154864fb-fe32-4c43-944e-35ddfeadc5cb",
   "metadata": {},
   "source": [
    "## Dataset information"
   ]
  },
  {
   "cell_type": "code",
   "execution_count": 7,
   "id": "bf0064fa-544f-4427-8236-f372e9827b60",
   "metadata": {},
   "outputs": [
    {
     "data": {
      "text/html": [
       "<div>\n",
       "<style scoped>\n",
       "    .dataframe tbody tr th:only-of-type {\n",
       "        vertical-align: middle;\n",
       "    }\n",
       "\n",
       "    .dataframe tbody tr th {\n",
       "        vertical-align: top;\n",
       "    }\n",
       "\n",
       "    .dataframe thead th {\n",
       "        text-align: right;\n",
       "    }\n",
       "</style>\n",
       "<table border=\"1\" class=\"dataframe\">\n",
       "  <thead>\n",
       "    <tr style=\"text-align: right;\">\n",
       "      <th></th>\n",
       "      <th>Temperature (K)</th>\n",
       "      <th>Luminosity(L/Lo)</th>\n",
       "      <th>Radius(R/Ro)</th>\n",
       "      <th>Absolute magnitude(Mv)</th>\n",
       "      <th>Star type</th>\n",
       "      <th>Star color</th>\n",
       "      <th>Spectral Class</th>\n",
       "    </tr>\n",
       "  </thead>\n",
       "  <tbody>\n",
       "    <tr>\n",
       "      <th>0</th>\n",
       "      <td>3068</td>\n",
       "      <td>0.002400</td>\n",
       "      <td>0.1700</td>\n",
       "      <td>16.12</td>\n",
       "      <td>0</td>\n",
       "      <td>Red</td>\n",
       "      <td>M</td>\n",
       "    </tr>\n",
       "    <tr>\n",
       "      <th>1</th>\n",
       "      <td>3042</td>\n",
       "      <td>0.000500</td>\n",
       "      <td>0.1542</td>\n",
       "      <td>16.60</td>\n",
       "      <td>0</td>\n",
       "      <td>Red</td>\n",
       "      <td>M</td>\n",
       "    </tr>\n",
       "    <tr>\n",
       "      <th>2</th>\n",
       "      <td>2600</td>\n",
       "      <td>0.000300</td>\n",
       "      <td>0.1020</td>\n",
       "      <td>18.70</td>\n",
       "      <td>0</td>\n",
       "      <td>Red</td>\n",
       "      <td>M</td>\n",
       "    </tr>\n",
       "    <tr>\n",
       "      <th>3</th>\n",
       "      <td>2800</td>\n",
       "      <td>0.000200</td>\n",
       "      <td>0.1600</td>\n",
       "      <td>16.65</td>\n",
       "      <td>0</td>\n",
       "      <td>Red</td>\n",
       "      <td>M</td>\n",
       "    </tr>\n",
       "    <tr>\n",
       "      <th>4</th>\n",
       "      <td>1939</td>\n",
       "      <td>0.000138</td>\n",
       "      <td>0.1030</td>\n",
       "      <td>20.06</td>\n",
       "      <td>0</td>\n",
       "      <td>Red</td>\n",
       "      <td>M</td>\n",
       "    </tr>\n",
       "    <tr>\n",
       "      <th>...</th>\n",
       "      <td>...</td>\n",
       "      <td>...</td>\n",
       "      <td>...</td>\n",
       "      <td>...</td>\n",
       "      <td>...</td>\n",
       "      <td>...</td>\n",
       "      <td>...</td>\n",
       "    </tr>\n",
       "    <tr>\n",
       "      <th>235</th>\n",
       "      <td>38940</td>\n",
       "      <td>374830.000000</td>\n",
       "      <td>1356.0000</td>\n",
       "      <td>-9.93</td>\n",
       "      <td>5</td>\n",
       "      <td>Blue</td>\n",
       "      <td>O</td>\n",
       "    </tr>\n",
       "    <tr>\n",
       "      <th>236</th>\n",
       "      <td>30839</td>\n",
       "      <td>834042.000000</td>\n",
       "      <td>1194.0000</td>\n",
       "      <td>-10.63</td>\n",
       "      <td>5</td>\n",
       "      <td>Blue</td>\n",
       "      <td>O</td>\n",
       "    </tr>\n",
       "    <tr>\n",
       "      <th>237</th>\n",
       "      <td>8829</td>\n",
       "      <td>537493.000000</td>\n",
       "      <td>1423.0000</td>\n",
       "      <td>-10.73</td>\n",
       "      <td>5</td>\n",
       "      <td>White</td>\n",
       "      <td>A</td>\n",
       "    </tr>\n",
       "    <tr>\n",
       "      <th>238</th>\n",
       "      <td>9235</td>\n",
       "      <td>404940.000000</td>\n",
       "      <td>1112.0000</td>\n",
       "      <td>-11.23</td>\n",
       "      <td>5</td>\n",
       "      <td>White</td>\n",
       "      <td>A</td>\n",
       "    </tr>\n",
       "    <tr>\n",
       "      <th>239</th>\n",
       "      <td>37882</td>\n",
       "      <td>294903.000000</td>\n",
       "      <td>1783.0000</td>\n",
       "      <td>-7.80</td>\n",
       "      <td>5</td>\n",
       "      <td>Blue</td>\n",
       "      <td>O</td>\n",
       "    </tr>\n",
       "  </tbody>\n",
       "</table>\n",
       "<p>240 rows × 7 columns</p>\n",
       "</div>"
      ],
      "text/plain": [
       "     Temperature (K)  Luminosity(L/Lo)  Radius(R/Ro)  Absolute magnitude(Mv)  \\\n",
       "0               3068          0.002400        0.1700                   16.12   \n",
       "1               3042          0.000500        0.1542                   16.60   \n",
       "2               2600          0.000300        0.1020                   18.70   \n",
       "3               2800          0.000200        0.1600                   16.65   \n",
       "4               1939          0.000138        0.1030                   20.06   \n",
       "..               ...               ...           ...                     ...   \n",
       "235            38940     374830.000000     1356.0000                   -9.93   \n",
       "236            30839     834042.000000     1194.0000                  -10.63   \n",
       "237             8829     537493.000000     1423.0000                  -10.73   \n",
       "238             9235     404940.000000     1112.0000                  -11.23   \n",
       "239            37882     294903.000000     1783.0000                   -7.80   \n",
       "\n",
       "     Star type Star color Spectral Class  \n",
       "0            0        Red              M  \n",
       "1            0        Red              M  \n",
       "2            0        Red              M  \n",
       "3            0        Red              M  \n",
       "4            0        Red              M  \n",
       "..         ...        ...            ...  \n",
       "235          5       Blue              O  \n",
       "236          5       Blue              O  \n",
       "237          5      White              A  \n",
       "238          5      White              A  \n",
       "239          5       Blue              O  \n",
       "\n",
       "[240 rows x 7 columns]"
      ]
     },
     "execution_count": 7,
     "metadata": {},
     "output_type": "execute_result"
    }
   ],
   "source": [
    "dataset"
   ]
  },
  {
   "cell_type": "code",
   "execution_count": 8,
   "id": "17a26f46-2882-4ace-ae0b-e23559f4fc0f",
   "metadata": {},
   "outputs": [
    {
     "data": {
      "text/html": [
       "<div>\n",
       "<style scoped>\n",
       "    .dataframe tbody tr th:only-of-type {\n",
       "        vertical-align: middle;\n",
       "    }\n",
       "\n",
       "    .dataframe tbody tr th {\n",
       "        vertical-align: top;\n",
       "    }\n",
       "\n",
       "    .dataframe thead th {\n",
       "        text-align: right;\n",
       "    }\n",
       "</style>\n",
       "<table border=\"1\" class=\"dataframe\">\n",
       "  <thead>\n",
       "    <tr style=\"text-align: right;\">\n",
       "      <th></th>\n",
       "      <th>Temperature (K)</th>\n",
       "      <th>Luminosity(L/Lo)</th>\n",
       "      <th>Radius(R/Ro)</th>\n",
       "      <th>Absolute magnitude(Mv)</th>\n",
       "      <th>Star type</th>\n",
       "      <th>Star color</th>\n",
       "      <th>Spectral Class</th>\n",
       "    </tr>\n",
       "  </thead>\n",
       "  <tbody>\n",
       "    <tr>\n",
       "      <th>0</th>\n",
       "      <td>3068</td>\n",
       "      <td>0.002400</td>\n",
       "      <td>0.1700</td>\n",
       "      <td>16.12</td>\n",
       "      <td>0</td>\n",
       "      <td>Red</td>\n",
       "      <td>M</td>\n",
       "    </tr>\n",
       "    <tr>\n",
       "      <th>1</th>\n",
       "      <td>3042</td>\n",
       "      <td>0.000500</td>\n",
       "      <td>0.1542</td>\n",
       "      <td>16.60</td>\n",
       "      <td>0</td>\n",
       "      <td>Red</td>\n",
       "      <td>M</td>\n",
       "    </tr>\n",
       "    <tr>\n",
       "      <th>2</th>\n",
       "      <td>2600</td>\n",
       "      <td>0.000300</td>\n",
       "      <td>0.1020</td>\n",
       "      <td>18.70</td>\n",
       "      <td>0</td>\n",
       "      <td>Red</td>\n",
       "      <td>M</td>\n",
       "    </tr>\n",
       "    <tr>\n",
       "      <th>3</th>\n",
       "      <td>2800</td>\n",
       "      <td>0.000200</td>\n",
       "      <td>0.1600</td>\n",
       "      <td>16.65</td>\n",
       "      <td>0</td>\n",
       "      <td>Red</td>\n",
       "      <td>M</td>\n",
       "    </tr>\n",
       "    <tr>\n",
       "      <th>4</th>\n",
       "      <td>1939</td>\n",
       "      <td>0.000138</td>\n",
       "      <td>0.1030</td>\n",
       "      <td>20.06</td>\n",
       "      <td>0</td>\n",
       "      <td>Red</td>\n",
       "      <td>M</td>\n",
       "    </tr>\n",
       "  </tbody>\n",
       "</table>\n",
       "</div>"
      ],
      "text/plain": [
       "   Temperature (K)  Luminosity(L/Lo)  Radius(R/Ro)  Absolute magnitude(Mv)  \\\n",
       "0             3068          0.002400        0.1700                   16.12   \n",
       "1             3042          0.000500        0.1542                   16.60   \n",
       "2             2600          0.000300        0.1020                   18.70   \n",
       "3             2800          0.000200        0.1600                   16.65   \n",
       "4             1939          0.000138        0.1030                   20.06   \n",
       "\n",
       "   Star type Star color Spectral Class  \n",
       "0          0        Red              M  \n",
       "1          0        Red              M  \n",
       "2          0        Red              M  \n",
       "3          0        Red              M  \n",
       "4          0        Red              M  "
      ]
     },
     "execution_count": 8,
     "metadata": {},
     "output_type": "execute_result"
    }
   ],
   "source": [
    "'''\n",
    "Dataset Heading, 5 first lines of data\n",
    "'''\n",
    "dataset.head()"
   ]
  },
  {
   "cell_type": "code",
   "execution_count": 9,
   "id": "951004a4-2096-4730-8901-00708966c256",
   "metadata": {},
   "outputs": [
    {
     "name": "stdout",
     "output_type": "stream",
     "text": [
      "<class 'pandas.core.frame.DataFrame'>\n",
      "RangeIndex: 240 entries, 0 to 239\n",
      "Data columns (total 7 columns):\n",
      " #   Column                  Non-Null Count  Dtype  \n",
      "---  ------                  --------------  -----  \n",
      " 0   Temperature (K)         240 non-null    int64  \n",
      " 1   Luminosity(L/Lo)        240 non-null    float64\n",
      " 2   Radius(R/Ro)            240 non-null    float64\n",
      " 3   Absolute magnitude(Mv)  240 non-null    float64\n",
      " 4   Star type               240 non-null    int64  \n",
      " 5   Star color              240 non-null    object \n",
      " 6   Spectral Class          240 non-null    object \n",
      "dtypes: float64(3), int64(2), object(2)\n",
      "memory usage: 13.3+ KB\n"
     ]
    }
   ],
   "source": [
    "'''\n",
    "Dataset Basic Column Information\n",
    "'''\n",
    "dataset.info()"
   ]
  },
  {
   "cell_type": "markdown",
   "id": "0df1f4f4-6b2b-4f52-8319-71fbee78b30e",
   "metadata": {},
   "source": [
    "# Data Visualization"
   ]
  },
  {
   "cell_type": "markdown",
   "id": "772888bd-a188-418b-a7e2-778e1fa2cb99",
   "metadata": {},
   "source": [
    "Eng: Now we are going to output the HR-diagram. So for this we are going to use seaborn and matplotlib.\n",
    "\n",
    "--- \n",
    "\n",
    "Ukr: Тепер ми виведемо HR-діаграму. Для цього ми використаємо seaborn та matplotlib."
   ]
  },
  {
   "cell_type": "markdown",
   "id": "039feacc-a1f6-4e31-bbd1-980b9f863bdf",
   "metadata": {},
   "source": [
    "## Importing modules"
   ]
  },
  {
   "cell_type": "code",
   "execution_count": 10,
   "id": "ec65c215-e83a-4574-a006-d2ff7a2c38b9",
   "metadata": {},
   "outputs": [],
   "source": [
    "import seaborn as sns\n",
    "import matplotlib.pyplot as plt"
   ]
  },
  {
   "cell_type": "markdown",
   "id": "1217821c-fc42-4fd8-bc0d-13fa0fbf353c",
   "metadata": {},
   "source": [
    "## Visualization"
   ]
  },
  {
   "cell_type": "code",
   "execution_count": 11,
   "id": "a75e0e90-0f4d-49ed-a30e-f78056c65b7f",
   "metadata": {},
   "outputs": [
    {
     "data": {
      "image/png": "[encoded data removed]",
      "text/plain": [
       "<Figure size 1300x900 with 2 Axes>"
      ]
     },
     "metadata": {},
     "output_type": "display_data"
    }
   ],
   "source": [
    "fig, ax = plt.subplots(\n",
    "    nrows=1,\n",
    "    ncols=2,\n",
    "    figsize=(13, 9)\n",
    ")\n",
    "\n",
    "'''\n",
    "Here we are going to use Absolute magnitude(Mv) for ploting the diagram. \n",
    "But on the left you will see the type, like: (Brown Dwarf, Red Dwarf, White Dwarf, Main Sequence, Supergiant, Hypergiant).\n",
    "And on the right you will see the class ploting.\n",
    "\n",
    "Тут ми будемо використовувати Абсолютну магнітуду (Mv) для побудови діаграми. \n",
    "Але зліва ви побачите тип, наприклад: \n",
    "(Коричневий карлик, Червоний карлик, Білий карлик, Головна послідовність, Надгігант, Гіпергігант).\n",
    "А праворуч ви побачите побудову діаграми класу.\n",
    "'''\n",
    "\n",
    "'''\n",
    "Star Type Encoding: \n",
    "\n",
    "Brown Dwarf -> Star Type = 0\n",
    "Red Dwarf -> Star Type = 1\n",
    "White Dwarf-> Star Type = 2\n",
    "Main Sequence -> Star Type = 3\n",
    "Supergiant -> Star Type = 4\n",
    "Hypergiant -> Star Type = 5\n",
    "\n",
    "Кодування типу зорі: \n",
    "\n",
    "Коричневий карлик -> Тип зорі = 0\n",
    "Червоний карлик -> тип зірки = 1\n",
    "Білий карлик -> Тип зорі = 2\n",
    "Головна послідовність -> Тип зорі = 3\n",
    "Надгігант -> Тип зорі = 4\n",
    "Гіпергігант -> Тип зорі = 5\n",
    "'''\n",
    "\n",
    "sns.scatterplot(\n",
    "    x='Temperature (K)',\n",
    "    y='Absolute magnitude(Mv)',\n",
    "    data=dataset,\n",
    "    hue='Star type',\n",
    "    ax=ax[0],\n",
    "    palette='dark'\n",
    ")\n",
    "\n",
    "sns.scatterplot(\n",
    "    x='Temperature (K)',\n",
    "    y='Absolute magnitude(Mv)',\n",
    "    data=dataset,\n",
    "    hue='Spectral Class',\n",
    "    ax=ax[1],\n",
    "    palette='dark'\n",
    ")\n",
    "\n",
    "plt.tight_layout()\n",
    "plt.show()"
   ]
  },
  {
   "cell_type": "code",
   "execution_count": 12,
   "id": "a7b682bc-386e-4ebc-95ee-1519fbfe126c",
   "metadata": {},
   "outputs": [
    {
     "data": {
      "image/png": "[encoded data removed]",
      "text/plain": [
       "<Figure size 1300x900 with 2 Axes>"
      ]
     },
     "metadata": {},
     "output_type": "display_data"
    }
   ],
   "source": [
    "fig, ax = plt.subplots(\n",
    "    nrows=1,\n",
    "    ncols=2,\n",
    "    figsize=(13, 9)\n",
    ")\n",
    "\n",
    "'''\n",
    "Here we are going to Luminosity(L/Lo) for ploting the diagram. \n",
    "But on the left you will see the type, like: (Brown Dwarf, Red Dwarf, White Dwarf, Main Sequence, Supergiant, Hypergiant).\n",
    "And on the right you will see the class ploting.\n",
    "\n",
    "Тут ми переходимо до пункту Світність (L/Lo) для побудови діаграми. \n",
    "Але зліва ви побачите тип, наприклад: \n",
    "(Коричневий карлик, Червоний карлик, Білий карлик, Головна послідовність, Надгігант, Гіпергігант).\n",
    "А праворуч ви побачите побудову діаграми класу.\n",
    "'''\n",
    "\n",
    "'''\n",
    "Star Type Encoding: \n",
    "\n",
    "Brown Dwarf -> Star Type = 0\n",
    "Red Dwarf -> Star Type = 1\n",
    "White Dwarf-> Star Type = 2\n",
    "Main Sequence -> Star Type = 3\n",
    "Supergiant -> Star Type = 4\n",
    "Hypergiant -> Star Type = 5\n",
    "\n",
    "Кодування типу зорі: \n",
    "\n",
    "Коричневий карлик -> Тип зорі = 0\n",
    "Червоний карлик -> тип зірки = 1\n",
    "Білий карлик -> Тип зорі = 2\n",
    "Головна послідовність -> Тип зорі = 3\n",
    "Надгігант -> Тип зорі = 4\n",
    "Гіпергігант -> Тип зорі = 5\n",
    "'''\n",
    "\n",
    "sns.scatterplot(\n",
    "    x='Temperature (K)',\n",
    "    y='Luminosity(L/Lo)',\n",
    "    data=dataset,\n",
    "    hue='Star type',\n",
    "    ax=ax[0],\n",
    "    palette='bright'\n",
    ")\n",
    "\n",
    "sns.scatterplot(\n",
    "    x='Temperature (K)',\n",
    "    y='Luminosity(L/Lo)',\n",
    "    data=dataset,\n",
    "    hue='Spectral Class',\n",
    "    ax=ax[1],\n",
    "    palette='bright'\n",
    ")\n",
    "\n",
    "plt.tight_layout()\n",
    "plt.show()"
   ]
  },
  {
   "cell_type": "markdown",
   "id": "29e811fa-99b7-418c-9c4f-d8a160d373aa",
   "metadata": {},
   "source": [
    "Eng: The plots are different, because we are not using logarithm of the Temperature and Luminosity, in this case we would get the correct HR-diagram.\n",
    "\n",
    "---\n",
    "\n",
    "Ukr: Графіки відрізняються, тому що ми не використовуємо логарифм температури і яскравості, в цьому випадку ми б отримали HR-діаграму іншого вигляду."
   ]
  },
  {
   "cell_type": "markdown",
   "id": "d69bdaf9-6cc9-4d15-8622-c7fdeabfbfd6",
   "metadata": {},
   "source": [
    "# Preprocessing"
   ]
  },
  {
   "cell_type": "markdown",
   "id": "36148c17-7367-40fa-9e62-f0d045598371",
   "metadata": {},
   "source": [
    "Eng: Now, we are going to process our data and make a star learning our model. For this we will use numpy and scikit-learn.\n",
    "\n",
    "---\n",
    "\n",
    "Ukr: Тепер ми збираємося попередньо обробити дані та навчити нашу модель. Для цього ми будемо використовувати numpy та scikit-learn."
   ]
  },
  {
   "cell_type": "markdown",
   "id": "dfdb0561-a510-4568-8dc7-d689d3eb21d5",
   "metadata": {},
   "source": [
    "## Importing modules"
   ]
  },
  {
   "cell_type": "code",
   "execution_count": 13,
   "id": "361d28b3-bee9-43d2-bdcd-112f5878f3da",
   "metadata": {},
   "outputs": [],
   "source": [
    "import numpy as np\n",
    "\n",
    "from sklearn.preprocessing import StandardScaler\n",
    "from sklearn.metrics import classification_report\n",
    "from sklearn.neighbors import KNeighborsClassifier\n",
    "from sklearn.model_selection import (KFold, GridSearchCV, \n",
    "    train_test_split, cross_val_score)"
   ]
  },
  {
   "cell_type": "markdown",
   "id": "94a4e5e3-c620-484a-a0d0-025b0219776b",
   "metadata": {},
   "source": [
    "## Dataframe splitting"
   ]
  },
  {
   "cell_type": "code",
   "execution_count": 14,
   "id": "43311ff0-109e-48bd-ad95-86b150e9b187",
   "metadata": {},
   "outputs": [],
   "source": [
    "'''\n",
    "Splitting dataframe into categorical and numeric features to perform preprocessing.\n",
    "'''\n",
    "\n",
    "dataframe_categorical = dataset.select_dtypes(\n",
    "    exclude=np.number\n",
    ")\n",
    "\n",
    "dataframe_numeric = dataset.select_dtypes(\n",
    "    include=np.number\n",
    ")"
   ]
  },
  {
   "cell_type": "code",
   "execution_count": 15,
   "id": "c8edf0db-6f25-4bfe-842f-d84debb70576",
   "metadata": {},
   "outputs": [
    {
     "data": {
      "text/html": [
       "<div>\n",
       "<style scoped>\n",
       "    .dataframe tbody tr th:only-of-type {\n",
       "        vertical-align: middle;\n",
       "    }\n",
       "\n",
       "    .dataframe tbody tr th {\n",
       "        vertical-align: top;\n",
       "    }\n",
       "\n",
       "    .dataframe thead th {\n",
       "        text-align: right;\n",
       "    }\n",
       "</style>\n",
       "<table border=\"1\" class=\"dataframe\">\n",
       "  <thead>\n",
       "    <tr style=\"text-align: right;\">\n",
       "      <th></th>\n",
       "      <th>Star color</th>\n",
       "      <th>Spectral Class</th>\n",
       "    </tr>\n",
       "  </thead>\n",
       "  <tbody>\n",
       "    <tr>\n",
       "      <th>0</th>\n",
       "      <td>Red</td>\n",
       "      <td>M</td>\n",
       "    </tr>\n",
       "  </tbody>\n",
       "</table>\n",
       "</div>"
      ],
      "text/plain": [
       "  Star color Spectral Class\n",
       "0        Red              M"
      ]
     },
     "execution_count": 15,
     "metadata": {},
     "output_type": "execute_result"
    }
   ],
   "source": [
    "dataframe_categorical.head(1)"
   ]
  },
  {
   "cell_type": "code",
   "execution_count": 16,
   "id": "be95f926-dcdb-48b0-8a0d-9df6979397b3",
   "metadata": {},
   "outputs": [
    {
     "data": {
      "text/html": [
       "<div>\n",
       "<style scoped>\n",
       "    .dataframe tbody tr th:only-of-type {\n",
       "        vertical-align: middle;\n",
       "    }\n",
       "\n",
       "    .dataframe tbody tr th {\n",
       "        vertical-align: top;\n",
       "    }\n",
       "\n",
       "    .dataframe thead th {\n",
       "        text-align: right;\n",
       "    }\n",
       "</style>\n",
       "<table border=\"1\" class=\"dataframe\">\n",
       "  <thead>\n",
       "    <tr style=\"text-align: right;\">\n",
       "      <th></th>\n",
       "      <th>Temperature (K)</th>\n",
       "      <th>Luminosity(L/Lo)</th>\n",
       "      <th>Radius(R/Ro)</th>\n",
       "      <th>Absolute magnitude(Mv)</th>\n",
       "      <th>Star type</th>\n",
       "    </tr>\n",
       "  </thead>\n",
       "  <tbody>\n",
       "    <tr>\n",
       "      <th>0</th>\n",
       "      <td>3068</td>\n",
       "      <td>0.0024</td>\n",
       "      <td>0.17</td>\n",
       "      <td>16.12</td>\n",
       "      <td>0</td>\n",
       "    </tr>\n",
       "  </tbody>\n",
       "</table>\n",
       "</div>"
      ],
      "text/plain": [
       "   Temperature (K)  Luminosity(L/Lo)  Radius(R/Ro)  Absolute magnitude(Mv)  \\\n",
       "0             3068            0.0024          0.17                   16.12   \n",
       "\n",
       "   Star type  \n",
       "0          0  "
      ]
     },
     "execution_count": 16,
     "metadata": {},
     "output_type": "execute_result"
    }
   ],
   "source": [
    "dataframe_numeric.head(1)"
   ]
  },
  {
   "cell_type": "markdown",
   "id": "a7d0a971-54cb-4c1e-af1c-fb0cc357014d",
   "metadata": {},
   "source": [
    "## Visualizing outliers"
   ]
  },
  {
   "cell_type": "code",
   "execution_count": 17,
   "id": "8c8c08d5-61a3-4760-a29e-5f190b6ab9ee",
   "metadata": {},
   "outputs": [
    {
     "data": {
      "image/png": "[encoded data removed]",
      "text/plain": [
       "<Figure size 1600x1000 with 5 Axes>"
      ]
     },
     "metadata": {},
     "output_type": "display_data"
    }
   ],
   "source": [
    "fig, ax = plt.subplots(\n",
    "    len(dataframe_numeric.columns),\n",
    "    figsize=(16, 10)\n",
    ")\n",
    "\n",
    "for i in range(len(dataframe_numeric.columns)):\n",
    "    sns.boxplot(\n",
    "        x=dataframe_numeric.iloc[:,i],\n",
    "        ax=ax[i],\n",
    "        hue=dataframe_numeric['Star type']\n",
    "    )\n",
    "    plt.tight_layout()\n",
    "\n",
    "plt.show()"
   ]
  },
  {
   "cell_type": "code",
   "execution_count": 18,
   "id": "6cf237b3-b4d8-4a66-9f12-63e6a8ead06b",
   "metadata": {},
   "outputs": [
    {
     "data": {
      "text/plain": [
       "Star type\n",
       "0    40\n",
       "1    40\n",
       "2    40\n",
       "3    40\n",
       "4    40\n",
       "5    40\n",
       "Name: count, dtype: int64"
      ]
     },
     "execution_count": 18,
     "metadata": {},
     "output_type": "execute_result"
    }
   ],
   "source": [
    "'''\n",
    "Checking for class imbalance\n",
    "'''\n",
    "\n",
    "dataset['Star type'].value_counts()"
   ]
  },
  {
   "cell_type": "code",
   "execution_count": 19,
   "id": "b520cd05-6732-4181-8822-eee9febfd818",
   "metadata": {},
   "outputs": [
    {
     "data": {
      "text/html": [
       "<div>\n",
       "<style scoped>\n",
       "    .dataframe tbody tr th:only-of-type {\n",
       "        vertical-align: middle;\n",
       "    }\n",
       "\n",
       "    .dataframe tbody tr th {\n",
       "        vertical-align: top;\n",
       "    }\n",
       "\n",
       "    .dataframe thead th {\n",
       "        text-align: right;\n",
       "    }\n",
       "</style>\n",
       "<table border=\"1\" class=\"dataframe\">\n",
       "  <thead>\n",
       "    <tr style=\"text-align: right;\">\n",
       "      <th></th>\n",
       "      <th>Temperature (K)</th>\n",
       "      <th>Luminosity(L/Lo)</th>\n",
       "      <th>Radius(R/Ro)</th>\n",
       "      <th>Absolute magnitude(Mv)</th>\n",
       "      <th>Star type</th>\n",
       "    </tr>\n",
       "  </thead>\n",
       "  <tbody>\n",
       "    <tr>\n",
       "      <th>count</th>\n",
       "      <td>240.000000</td>\n",
       "      <td>240.000000</td>\n",
       "      <td>240.000000</td>\n",
       "      <td>240.000000</td>\n",
       "      <td>240.000000</td>\n",
       "    </tr>\n",
       "    <tr>\n",
       "      <th>mean</th>\n",
       "      <td>10497.462500</td>\n",
       "      <td>107188.361635</td>\n",
       "      <td>237.157781</td>\n",
       "      <td>4.382396</td>\n",
       "      <td>2.500000</td>\n",
       "    </tr>\n",
       "    <tr>\n",
       "      <th>std</th>\n",
       "      <td>9552.425037</td>\n",
       "      <td>179432.244940</td>\n",
       "      <td>517.155763</td>\n",
       "      <td>10.532512</td>\n",
       "      <td>1.711394</td>\n",
       "    </tr>\n",
       "    <tr>\n",
       "      <th>min</th>\n",
       "      <td>1939.000000</td>\n",
       "      <td>0.000080</td>\n",
       "      <td>0.008400</td>\n",
       "      <td>-11.920000</td>\n",
       "      <td>0.000000</td>\n",
       "    </tr>\n",
       "    <tr>\n",
       "      <th>25%</th>\n",
       "      <td>3344.250000</td>\n",
       "      <td>0.000865</td>\n",
       "      <td>0.102750</td>\n",
       "      <td>-6.232500</td>\n",
       "      <td>1.000000</td>\n",
       "    </tr>\n",
       "    <tr>\n",
       "      <th>50%</th>\n",
       "      <td>5776.000000</td>\n",
       "      <td>0.070500</td>\n",
       "      <td>0.762500</td>\n",
       "      <td>8.313000</td>\n",
       "      <td>2.500000</td>\n",
       "    </tr>\n",
       "    <tr>\n",
       "      <th>75%</th>\n",
       "      <td>15055.500000</td>\n",
       "      <td>198050.000000</td>\n",
       "      <td>42.750000</td>\n",
       "      <td>13.697500</td>\n",
       "      <td>4.000000</td>\n",
       "    </tr>\n",
       "    <tr>\n",
       "      <th>max</th>\n",
       "      <td>40000.000000</td>\n",
       "      <td>849420.000000</td>\n",
       "      <td>1948.500000</td>\n",
       "      <td>20.060000</td>\n",
       "      <td>5.000000</td>\n",
       "    </tr>\n",
       "  </tbody>\n",
       "</table>\n",
       "</div>"
      ],
      "text/plain": [
       "       Temperature (K)  Luminosity(L/Lo)  Radius(R/Ro)  \\\n",
       "count       240.000000        240.000000    240.000000   \n",
       "mean      10497.462500     107188.361635    237.157781   \n",
       "std        9552.425037     179432.244940    517.155763   \n",
       "min        1939.000000          0.000080      0.008400   \n",
       "25%        3344.250000          0.000865      0.102750   \n",
       "50%        5776.000000          0.070500      0.762500   \n",
       "75%       15055.500000     198050.000000     42.750000   \n",
       "max       40000.000000     849420.000000   1948.500000   \n",
       "\n",
       "       Absolute magnitude(Mv)   Star type  \n",
       "count              240.000000  240.000000  \n",
       "mean                 4.382396    2.500000  \n",
       "std                 10.532512    1.711394  \n",
       "min                -11.920000    0.000000  \n",
       "25%                 -6.232500    1.000000  \n",
       "50%                  8.313000    2.500000  \n",
       "75%                 13.697500    4.000000  \n",
       "max                 20.060000    5.000000  "
      ]
     },
     "execution_count": 19,
     "metadata": {},
     "output_type": "execute_result"
    }
   ],
   "source": [
    "'''\n",
    "Numeric features description\n",
    "'''\n",
    "\n",
    "dataset.describe()"
   ]
  },
  {
   "cell_type": "markdown",
   "id": "c64caedd-65a8-4906-a179-cd719ea9647f",
   "metadata": {},
   "source": [
    "## Dataframe Scaling"
   ]
  },
  {
   "cell_type": "code",
   "execution_count": 20,
   "id": "dec1f223-7f40-46ca-ad8a-b88d86d22632",
   "metadata": {},
   "outputs": [],
   "source": [
    "_scaler = StandardScaler()"
   ]
  },
  {
   "cell_type": "code",
   "execution_count": 21,
   "id": "cea6bd91-2619-4cb6-a6ce-3eb9b89ebc6b",
   "metadata": {},
   "outputs": [],
   "source": [
    "scaled_numeric = pd.DataFrame(\n",
    "    _scaler.fit_transform(dataframe_numeric),\n",
    "    columns=dataframe_numeric.columns\n",
    ")"
   ]
  },
  {
   "cell_type": "code",
   "execution_count": 22,
   "id": "5cefa39a-516f-4c9b-a69b-4cc30923fd10",
   "metadata": {},
   "outputs": [
    {
     "data": {
      "text/html": [
       "<div>\n",
       "<style scoped>\n",
       "    .dataframe tbody tr th:only-of-type {\n",
       "        vertical-align: middle;\n",
       "    }\n",
       "\n",
       "    .dataframe tbody tr th {\n",
       "        vertical-align: top;\n",
       "    }\n",
       "\n",
       "    .dataframe thead th {\n",
       "        text-align: right;\n",
       "    }\n",
       "</style>\n",
       "<table border=\"1\" class=\"dataframe\">\n",
       "  <thead>\n",
       "    <tr style=\"text-align: right;\">\n",
       "      <th></th>\n",
       "      <th>Temperature (K)</th>\n",
       "      <th>Luminosity(L/Lo)</th>\n",
       "      <th>Radius(R/Ro)</th>\n",
       "      <th>Absolute magnitude(Mv)</th>\n",
       "      <th>Star type</th>\n",
       "    </tr>\n",
       "  </thead>\n",
       "  <tbody>\n",
       "    <tr>\n",
       "      <th>0</th>\n",
       "      <td>-0.779382</td>\n",
       "      <td>-0.598624</td>\n",
       "      <td>-0.459210</td>\n",
       "      <td>1.116745</td>\n",
       "      <td>-1.46385</td>\n",
       "    </tr>\n",
       "    <tr>\n",
       "      <th>1</th>\n",
       "      <td>-0.782110</td>\n",
       "      <td>-0.598624</td>\n",
       "      <td>-0.459241</td>\n",
       "      <td>1.162414</td>\n",
       "      <td>-1.46385</td>\n",
       "    </tr>\n",
       "    <tr>\n",
       "      <th>2</th>\n",
       "      <td>-0.828477</td>\n",
       "      <td>-0.598624</td>\n",
       "      <td>-0.459342</td>\n",
       "      <td>1.362213</td>\n",
       "      <td>-1.46385</td>\n",
       "    </tr>\n",
       "    <tr>\n",
       "      <th>3</th>\n",
       "      <td>-0.807496</td>\n",
       "      <td>-0.598624</td>\n",
       "      <td>-0.459229</td>\n",
       "      <td>1.167171</td>\n",
       "      <td>-1.46385</td>\n",
       "    </tr>\n",
       "    <tr>\n",
       "      <th>4</th>\n",
       "      <td>-0.897819</td>\n",
       "      <td>-0.598624</td>\n",
       "      <td>-0.459340</td>\n",
       "      <td>1.491607</td>\n",
       "      <td>-1.46385</td>\n",
       "    </tr>\n",
       "  </tbody>\n",
       "</table>\n",
       "</div>"
      ],
      "text/plain": [
       "   Temperature (K)  Luminosity(L/Lo)  Radius(R/Ro)  Absolute magnitude(Mv)  \\\n",
       "0        -0.779382         -0.598624     -0.459210                1.116745   \n",
       "1        -0.782110         -0.598624     -0.459241                1.162414   \n",
       "2        -0.828477         -0.598624     -0.459342                1.362213   \n",
       "3        -0.807496         -0.598624     -0.459229                1.167171   \n",
       "4        -0.897819         -0.598624     -0.459340                1.491607   \n",
       "\n",
       "   Star type  \n",
       "0   -1.46385  \n",
       "1   -1.46385  \n",
       "2   -1.46385  \n",
       "3   -1.46385  \n",
       "4   -1.46385  "
      ]
     },
     "execution_count": 22,
     "metadata": {},
     "output_type": "execute_result"
    }
   ],
   "source": [
    "scaled_numeric.head()"
   ]
  },
  {
   "cell_type": "markdown",
   "id": "28155765-85cd-42f5-8068-2958396f7561",
   "metadata": {},
   "source": [
    "## Encoding Categorical Variables"
   ]
  },
  {
   "cell_type": "code",
   "execution_count": 23,
   "id": "cea535b1-08bf-478a-9f3f-1f732b5734c2",
   "metadata": {},
   "outputs": [
    {
     "data": {
      "text/html": [
       "<div>\n",
       "<style scoped>\n",
       "    .dataframe tbody tr th:only-of-type {\n",
       "        vertical-align: middle;\n",
       "    }\n",
       "\n",
       "    .dataframe tbody tr th {\n",
       "        vertical-align: top;\n",
       "    }\n",
       "\n",
       "    .dataframe thead th {\n",
       "        text-align: right;\n",
       "    }\n",
       "</style>\n",
       "<table border=\"1\" class=\"dataframe\">\n",
       "  <thead>\n",
       "    <tr style=\"text-align: right;\">\n",
       "      <th></th>\n",
       "      <th>Star color_Blue</th>\n",
       "      <th>Star color_Blue White</th>\n",
       "      <th>Star color_Blue white</th>\n",
       "      <th>Star color_Blue white</th>\n",
       "      <th>Star color_Blue-White</th>\n",
       "      <th>Star color_Blue-white</th>\n",
       "      <th>Star color_Orange</th>\n",
       "      <th>Star color_Orange-Red</th>\n",
       "      <th>Star color_Pale yellow orange</th>\n",
       "      <th>Star color_Red</th>\n",
       "      <th>...</th>\n",
       "      <th>Star color_Yellowish White</th>\n",
       "      <th>Star color_white</th>\n",
       "      <th>Star color_yellow-white</th>\n",
       "      <th>Star color_yellowish</th>\n",
       "      <th>Spectral Class_B</th>\n",
       "      <th>Spectral Class_F</th>\n",
       "      <th>Spectral Class_G</th>\n",
       "      <th>Spectral Class_K</th>\n",
       "      <th>Spectral Class_M</th>\n",
       "      <th>Spectral Class_O</th>\n",
       "    </tr>\n",
       "  </thead>\n",
       "  <tbody>\n",
       "    <tr>\n",
       "      <th>0</th>\n",
       "      <td>False</td>\n",
       "      <td>False</td>\n",
       "      <td>False</td>\n",
       "      <td>False</td>\n",
       "      <td>False</td>\n",
       "      <td>False</td>\n",
       "      <td>False</td>\n",
       "      <td>False</td>\n",
       "      <td>False</td>\n",
       "      <td>True</td>\n",
       "      <td>...</td>\n",
       "      <td>False</td>\n",
       "      <td>False</td>\n",
       "      <td>False</td>\n",
       "      <td>False</td>\n",
       "      <td>False</td>\n",
       "      <td>False</td>\n",
       "      <td>False</td>\n",
       "      <td>False</td>\n",
       "      <td>True</td>\n",
       "      <td>False</td>\n",
       "    </tr>\n",
       "    <tr>\n",
       "      <th>1</th>\n",
       "      <td>False</td>\n",
       "      <td>False</td>\n",
       "      <td>False</td>\n",
       "      <td>False</td>\n",
       "      <td>False</td>\n",
       "      <td>False</td>\n",
       "      <td>False</td>\n",
       "      <td>False</td>\n",
       "      <td>False</td>\n",
       "      <td>True</td>\n",
       "      <td>...</td>\n",
       "      <td>False</td>\n",
       "      <td>False</td>\n",
       "      <td>False</td>\n",
       "      <td>False</td>\n",
       "      <td>False</td>\n",
       "      <td>False</td>\n",
       "      <td>False</td>\n",
       "      <td>False</td>\n",
       "      <td>True</td>\n",
       "      <td>False</td>\n",
       "    </tr>\n",
       "    <tr>\n",
       "      <th>2</th>\n",
       "      <td>False</td>\n",
       "      <td>False</td>\n",
       "      <td>False</td>\n",
       "      <td>False</td>\n",
       "      <td>False</td>\n",
       "      <td>False</td>\n",
       "      <td>False</td>\n",
       "      <td>False</td>\n",
       "      <td>False</td>\n",
       "      <td>True</td>\n",
       "      <td>...</td>\n",
       "      <td>False</td>\n",
       "      <td>False</td>\n",
       "      <td>False</td>\n",
       "      <td>False</td>\n",
       "      <td>False</td>\n",
       "      <td>False</td>\n",
       "      <td>False</td>\n",
       "      <td>False</td>\n",
       "      <td>True</td>\n",
       "      <td>False</td>\n",
       "    </tr>\n",
       "    <tr>\n",
       "      <th>3</th>\n",
       "      <td>False</td>\n",
       "      <td>False</td>\n",
       "      <td>False</td>\n",
       "      <td>False</td>\n",
       "      <td>False</td>\n",
       "      <td>False</td>\n",
       "      <td>False</td>\n",
       "      <td>False</td>\n",
       "      <td>False</td>\n",
       "      <td>True</td>\n",
       "      <td>...</td>\n",
       "      <td>False</td>\n",
       "      <td>False</td>\n",
       "      <td>False</td>\n",
       "      <td>False</td>\n",
       "      <td>False</td>\n",
       "      <td>False</td>\n",
       "      <td>False</td>\n",
       "      <td>False</td>\n",
       "      <td>True</td>\n",
       "      <td>False</td>\n",
       "    </tr>\n",
       "    <tr>\n",
       "      <th>4</th>\n",
       "      <td>False</td>\n",
       "      <td>False</td>\n",
       "      <td>False</td>\n",
       "      <td>False</td>\n",
       "      <td>False</td>\n",
       "      <td>False</td>\n",
       "      <td>False</td>\n",
       "      <td>False</td>\n",
       "      <td>False</td>\n",
       "      <td>True</td>\n",
       "      <td>...</td>\n",
       "      <td>False</td>\n",
       "      <td>False</td>\n",
       "      <td>False</td>\n",
       "      <td>False</td>\n",
       "      <td>False</td>\n",
       "      <td>False</td>\n",
       "      <td>False</td>\n",
       "      <td>False</td>\n",
       "      <td>True</td>\n",
       "      <td>False</td>\n",
       "    </tr>\n",
       "  </tbody>\n",
       "</table>\n",
       "<p>5 rows × 24 columns</p>\n",
       "</div>"
      ],
      "text/plain": [
       "   Star color_Blue   Star color_Blue White  Star color_Blue white  \\\n",
       "0             False                  False                  False   \n",
       "1             False                  False                  False   \n",
       "2             False                  False                  False   \n",
       "3             False                  False                  False   \n",
       "4             False                  False                  False   \n",
       "\n",
       "   Star color_Blue white   Star color_Blue-White  Star color_Blue-white  \\\n",
       "0                   False                  False                  False   \n",
       "1                   False                  False                  False   \n",
       "2                   False                  False                  False   \n",
       "3                   False                  False                  False   \n",
       "4                   False                  False                  False   \n",
       "\n",
       "   Star color_Orange  Star color_Orange-Red  Star color_Pale yellow orange  \\\n",
       "0              False                  False                          False   \n",
       "1              False                  False                          False   \n",
       "2              False                  False                          False   \n",
       "3              False                  False                          False   \n",
       "4              False                  False                          False   \n",
       "\n",
       "   Star color_Red  ...  Star color_Yellowish White  Star color_white  \\\n",
       "0            True  ...                       False             False   \n",
       "1            True  ...                       False             False   \n",
       "2            True  ...                       False             False   \n",
       "3            True  ...                       False             False   \n",
       "4            True  ...                       False             False   \n",
       "\n",
       "   Star color_yellow-white  Star color_yellowish  Spectral Class_B  \\\n",
       "0                    False                 False             False   \n",
       "1                    False                 False             False   \n",
       "2                    False                 False             False   \n",
       "3                    False                 False             False   \n",
       "4                    False                 False             False   \n",
       "\n",
       "   Spectral Class_F  Spectral Class_G  Spectral Class_K  Spectral Class_M  \\\n",
       "0             False             False             False              True   \n",
       "1             False             False             False              True   \n",
       "2             False             False             False              True   \n",
       "3             False             False             False              True   \n",
       "4             False             False             False              True   \n",
       "\n",
       "   Spectral Class_O  \n",
       "0             False  \n",
       "1             False  \n",
       "2             False  \n",
       "3             False  \n",
       "4             False  \n",
       "\n",
       "[5 rows x 24 columns]"
      ]
     },
     "execution_count": 23,
     "metadata": {},
     "output_type": "execute_result"
    }
   ],
   "source": [
    "encoded_categorical = pd.get_dummies(\n",
    "    dataframe_categorical, drop_first=True\n",
    ")\n",
    "\n",
    "encoded_categorical.head()"
   ]
  },
  {
   "cell_type": "markdown",
   "id": "c11b4402-3d14-44ab-8a4c-f1ad27acfac7",
   "metadata": {},
   "source": [
    "## Combining scaled numeric variables and encoded categorical variables"
   ]
  },
  {
   "cell_type": "code",
   "execution_count": 24,
   "id": "507b364b-0ee8-4c86-87d1-f3b7c44a133c",
   "metadata": {},
   "outputs": [
    {
     "data": {
      "text/html": [
       "<div>\n",
       "<style scoped>\n",
       "    .dataframe tbody tr th:only-of-type {\n",
       "        vertical-align: middle;\n",
       "    }\n",
       "\n",
       "    .dataframe tbody tr th {\n",
       "        vertical-align: top;\n",
       "    }\n",
       "\n",
       "    .dataframe thead th {\n",
       "        text-align: right;\n",
       "    }\n",
       "</style>\n",
       "<table border=\"1\" class=\"dataframe\">\n",
       "  <thead>\n",
       "    <tr style=\"text-align: right;\">\n",
       "      <th></th>\n",
       "      <th>Star color_Blue</th>\n",
       "      <th>Star color_Blue White</th>\n",
       "      <th>Star color_Blue white</th>\n",
       "      <th>Star color_Blue white</th>\n",
       "      <th>Star color_Blue-White</th>\n",
       "      <th>Star color_Blue-white</th>\n",
       "      <th>Star color_Orange</th>\n",
       "      <th>Star color_Orange-Red</th>\n",
       "      <th>Star color_Pale yellow orange</th>\n",
       "      <th>Star color_Red</th>\n",
       "      <th>...</th>\n",
       "      <th>Spectral Class_F</th>\n",
       "      <th>Spectral Class_G</th>\n",
       "      <th>Spectral Class_K</th>\n",
       "      <th>Spectral Class_M</th>\n",
       "      <th>Spectral Class_O</th>\n",
       "      <th>Temperature (K)</th>\n",
       "      <th>Luminosity(L/Lo)</th>\n",
       "      <th>Radius(R/Ro)</th>\n",
       "      <th>Absolute magnitude(Mv)</th>\n",
       "      <th>Star type</th>\n",
       "    </tr>\n",
       "  </thead>\n",
       "  <tbody>\n",
       "    <tr>\n",
       "      <th>0</th>\n",
       "      <td>False</td>\n",
       "      <td>False</td>\n",
       "      <td>False</td>\n",
       "      <td>False</td>\n",
       "      <td>False</td>\n",
       "      <td>False</td>\n",
       "      <td>False</td>\n",
       "      <td>False</td>\n",
       "      <td>False</td>\n",
       "      <td>True</td>\n",
       "      <td>...</td>\n",
       "      <td>False</td>\n",
       "      <td>False</td>\n",
       "      <td>False</td>\n",
       "      <td>True</td>\n",
       "      <td>False</td>\n",
       "      <td>-0.779382</td>\n",
       "      <td>-0.598624</td>\n",
       "      <td>-0.459210</td>\n",
       "      <td>1.116745</td>\n",
       "      <td>-1.46385</td>\n",
       "    </tr>\n",
       "    <tr>\n",
       "      <th>1</th>\n",
       "      <td>False</td>\n",
       "      <td>False</td>\n",
       "      <td>False</td>\n",
       "      <td>False</td>\n",
       "      <td>False</td>\n",
       "      <td>False</td>\n",
       "      <td>False</td>\n",
       "      <td>False</td>\n",
       "      <td>False</td>\n",
       "      <td>True</td>\n",
       "      <td>...</td>\n",
       "      <td>False</td>\n",
       "      <td>False</td>\n",
       "      <td>False</td>\n",
       "      <td>True</td>\n",
       "      <td>False</td>\n",
       "      <td>-0.782110</td>\n",
       "      <td>-0.598624</td>\n",
       "      <td>-0.459241</td>\n",
       "      <td>1.162414</td>\n",
       "      <td>-1.46385</td>\n",
       "    </tr>\n",
       "    <tr>\n",
       "      <th>2</th>\n",
       "      <td>False</td>\n",
       "      <td>False</td>\n",
       "      <td>False</td>\n",
       "      <td>False</td>\n",
       "      <td>False</td>\n",
       "      <td>False</td>\n",
       "      <td>False</td>\n",
       "      <td>False</td>\n",
       "      <td>False</td>\n",
       "      <td>True</td>\n",
       "      <td>...</td>\n",
       "      <td>False</td>\n",
       "      <td>False</td>\n",
       "      <td>False</td>\n",
       "      <td>True</td>\n",
       "      <td>False</td>\n",
       "      <td>-0.828477</td>\n",
       "      <td>-0.598624</td>\n",
       "      <td>-0.459342</td>\n",
       "      <td>1.362213</td>\n",
       "      <td>-1.46385</td>\n",
       "    </tr>\n",
       "    <tr>\n",
       "      <th>3</th>\n",
       "      <td>False</td>\n",
       "      <td>False</td>\n",
       "      <td>False</td>\n",
       "      <td>False</td>\n",
       "      <td>False</td>\n",
       "      <td>False</td>\n",
       "      <td>False</td>\n",
       "      <td>False</td>\n",
       "      <td>False</td>\n",
       "      <td>True</td>\n",
       "      <td>...</td>\n",
       "      <td>False</td>\n",
       "      <td>False</td>\n",
       "      <td>False</td>\n",
       "      <td>True</td>\n",
       "      <td>False</td>\n",
       "      <td>-0.807496</td>\n",
       "      <td>-0.598624</td>\n",
       "      <td>-0.459229</td>\n",
       "      <td>1.167171</td>\n",
       "      <td>-1.46385</td>\n",
       "    </tr>\n",
       "    <tr>\n",
       "      <th>4</th>\n",
       "      <td>False</td>\n",
       "      <td>False</td>\n",
       "      <td>False</td>\n",
       "      <td>False</td>\n",
       "      <td>False</td>\n",
       "      <td>False</td>\n",
       "      <td>False</td>\n",
       "      <td>False</td>\n",
       "      <td>False</td>\n",
       "      <td>True</td>\n",
       "      <td>...</td>\n",
       "      <td>False</td>\n",
       "      <td>False</td>\n",
       "      <td>False</td>\n",
       "      <td>True</td>\n",
       "      <td>False</td>\n",
       "      <td>-0.897819</td>\n",
       "      <td>-0.598624</td>\n",
       "      <td>-0.459340</td>\n",
       "      <td>1.491607</td>\n",
       "      <td>-1.46385</td>\n",
       "    </tr>\n",
       "  </tbody>\n",
       "</table>\n",
       "<p>5 rows × 29 columns</p>\n",
       "</div>"
      ],
      "text/plain": [
       "   Star color_Blue   Star color_Blue White  Star color_Blue white  \\\n",
       "0             False                  False                  False   \n",
       "1             False                  False                  False   \n",
       "2             False                  False                  False   \n",
       "3             False                  False                  False   \n",
       "4             False                  False                  False   \n",
       "\n",
       "   Star color_Blue white   Star color_Blue-White  Star color_Blue-white  \\\n",
       "0                   False                  False                  False   \n",
       "1                   False                  False                  False   \n",
       "2                   False                  False                  False   \n",
       "3                   False                  False                  False   \n",
       "4                   False                  False                  False   \n",
       "\n",
       "   Star color_Orange  Star color_Orange-Red  Star color_Pale yellow orange  \\\n",
       "0              False                  False                          False   \n",
       "1              False                  False                          False   \n",
       "2              False                  False                          False   \n",
       "3              False                  False                          False   \n",
       "4              False                  False                          False   \n",
       "\n",
       "   Star color_Red  ...  Spectral Class_F  Spectral Class_G  Spectral Class_K  \\\n",
       "0            True  ...             False             False             False   \n",
       "1            True  ...             False             False             False   \n",
       "2            True  ...             False             False             False   \n",
       "3            True  ...             False             False             False   \n",
       "4            True  ...             False             False             False   \n",
       "\n",
       "   Spectral Class_M  Spectral Class_O  Temperature (K)  Luminosity(L/Lo)  \\\n",
       "0              True             False        -0.779382         -0.598624   \n",
       "1              True             False        -0.782110         -0.598624   \n",
       "2              True             False        -0.828477         -0.598624   \n",
       "3              True             False        -0.807496         -0.598624   \n",
       "4              True             False        -0.897819         -0.598624   \n",
       "\n",
       "   Radius(R/Ro)  Absolute magnitude(Mv)  Star type  \n",
       "0     -0.459210                1.116745   -1.46385  \n",
       "1     -0.459241                1.162414   -1.46385  \n",
       "2     -0.459342                1.362213   -1.46385  \n",
       "3     -0.459229                1.167171   -1.46385  \n",
       "4     -0.459340                1.491607   -1.46385  \n",
       "\n",
       "[5 rows x 29 columns]"
      ]
     },
     "execution_count": 24,
     "metadata": {},
     "output_type": "execute_result"
    }
   ],
   "source": [
    "dataframe_mod = pd.concat(\n",
    "    [encoded_categorical, scaled_numeric],\n",
    "    axis=1\n",
    ")\n",
    "\n",
    "dataframe_mod.head()"
   ]
  },
  {
   "cell_type": "markdown",
   "id": "12439e74-4bcb-4fb6-8f40-c32888190d68",
   "metadata": {},
   "source": [
    "## Modeling"
   ]
  },
  {
   "cell_type": "code",
   "execution_count": 25,
   "id": "8e977cef-186a-415d-bb82-ed00bc3a0b14",
   "metadata": {},
   "outputs": [],
   "source": [
    "X = dataframe_mod.drop(\n",
    "    'Star type', axis=1\n",
    ")\n",
    "\n",
    "Y = dataset['Star type']"
   ]
  },
  {
   "cell_type": "code",
   "execution_count": 26,
   "id": "2b1d2a5e-cd1d-43e6-b17f-34d52de3e330",
   "metadata": {},
   "outputs": [],
   "source": [
    "X_train, X_test, Y_train, Y_test = train_test_split(\n",
    "    X, Y,\n",
    "    test_size=0.2,\n",
    "    shuffle=True,\n",
    "    random_state=6\n",
    ")"
   ]
  },
  {
   "cell_type": "markdown",
   "id": "e3dbb471-7319-4900-bba5-38a3615bbd68",
   "metadata": {},
   "source": [
    "## KNN Classifier"
   ]
  },
  {
   "cell_type": "code",
   "execution_count": 27,
   "id": "f9fadc59-dadd-4e3d-aa79-ebe583967f02",
   "metadata": {},
   "outputs": [],
   "source": [
    "kn3 = KNeighborsClassifier(\n",
    "    n_neighbors=3\n",
    ")\n",
    "\n",
    "kn3_model = kn3.fit(\n",
    "    X_train, Y_train\n",
    ")"
   ]
  },
  {
   "cell_type": "markdown",
   "id": "cf4c1711-7ce0-4b10-af75-942ce9bd6d1f",
   "metadata": {},
   "source": [
    "## Scoring the model"
   ]
  },
  {
   "cell_type": "code",
   "execution_count": 28,
   "id": "eb385af8-6a71-4814-a1cc-160f74ca1c28",
   "metadata": {},
   "outputs": [
    {
     "name": "stdout",
     "output_type": "stream",
     "text": [
      "Training Score: 98.44%\n",
      "----------------------\n",
      "Test Score: 97.92%\n",
      "\n"
     ]
    }
   ],
   "source": [
    "train_score = kn3_model.score(\n",
    "    X_train, Y_train\n",
    ")\n",
    "\n",
    "test_score = kn3_model.score(\n",
    "    X_test, Y_test\n",
    ")\n",
    "\n",
    "print(\n",
    "    'Training Score: {:.2f}%\\n'.format(train_score * 100) + \n",
    "    '-' * 22 + '\\n' +\n",
    "    'Test Score: {:.2f}%\\n'.format(test_score * 100)\n",
    ")"
   ]
  },
  {
   "cell_type": "markdown",
   "id": "38c173cc-5705-42bb-8ca7-1121724001ec",
   "metadata": {},
   "source": [
    "Eng: Well, as we see, the results are close to each other, so the model will well with unseen data.\n",
    "\n",
    "---\n",
    "\n",
    "Ukr: Що ж, як бачимо, результати близькі один до одного, тож модель буде добре працювати з \"невидимими\" даними."
   ]
  },
  {
   "cell_type": "markdown",
   "id": "a9f5fdf6-eea0-4d94-abca-89ebbb4c5b0d",
   "metadata": {},
   "source": [
    "## Classification Metrics"
   ]
  },
  {
   "cell_type": "code",
   "execution_count": 29,
   "id": "55a33b44-242a-4e0c-9c2e-158f02c04abf",
   "metadata": {},
   "outputs": [
    {
     "name": "stdout",
     "output_type": "stream",
     "text": [
      "              precision    recall  f1-score   support\n",
      "\n",
      "           0       1.00      1.00      1.00        30\n",
      "           1       1.00      1.00      1.00        31\n",
      "           2       1.00      1.00      1.00        30\n",
      "           3       0.91      1.00      0.96        32\n",
      "           4       1.00      0.94      0.97        36\n",
      "           5       1.00      0.97      0.98        33\n",
      "\n",
      "    accuracy                           0.98       192\n",
      "   macro avg       0.99      0.99      0.99       192\n",
      "weighted avg       0.99      0.98      0.98       192\n",
      "\n"
     ]
    }
   ],
   "source": [
    "train_prediction = kn3_model.predict(\n",
    "    X_train\n",
    ")\n",
    "\n",
    "print(\n",
    "    classification_report(Y_train, train_prediction)\n",
    ")"
   ]
  },
  {
   "cell_type": "markdown",
   "id": "bb1d9123-7694-4952-a684-5a62d09b5418",
   "metadata": {},
   "source": [
    "## Cross Validation"
   ]
  },
  {
   "cell_type": "code",
   "execution_count": 30,
   "id": "bf28705b-b4c7-40ea-97f6-3dee9b0c6bf6",
   "metadata": {},
   "outputs": [
    {
     "data": {
      "text/plain": [
       "array([0.97616893, 0.94871795, 1.        , 1.        , 0.97451963])"
      ]
     },
     "execution_count": 30,
     "metadata": {},
     "output_type": "execute_result"
    }
   ],
   "source": [
    "kfold = KFold(\n",
    "    n_splits=5,\n",
    "    shuffle=True,\n",
    "    random_state=48\n",
    ")\n",
    "\n",
    "scores = cross_val_score(\n",
    "    kn3,\n",
    "    X_train, \n",
    "    Y_train,\n",
    "    cv=kfold,\n",
    "    scoring='f1_weighted'\n",
    ")\n",
    "\n",
    "scores"
   ]
  },
  {
   "cell_type": "code",
   "execution_count": 31,
   "id": "50d03c0c-831e-43dc-8ca5-6e35a8bb46e6",
   "metadata": {},
   "outputs": [
    {
     "name": "stdout",
     "output_type": "stream",
     "text": [
      "Bias error: 0.02011869795151533\n",
      "------------------------------------\n",
      "Variance error: 0.019487656442323933\n",
      "\n"
     ]
    }
   ],
   "source": [
    "print(\n",
    "    'Bias error: {}\\n'.format((1 - np.mean(scores))) +\n",
    "    '-' * 36 + '\\n'\n",
    "    'Variance error: {}\\n'.format(\n",
    "        (np.std(scores) / np.mean(scores))\n",
    "    )\n",
    ")"
   ]
  },
  {
   "cell_type": "markdown",
   "id": "ad22917c-deb3-4d79-a03f-3373a6001be3",
   "metadata": {},
   "source": [
    "Eng: There is no overfitting or underfitting in the model, as bias & variance error is very low.\n",
    "\n",
    "---\n",
    "\n",
    "Ukr: У моделі немає ні надмірної, ні недостатньої пристосованості, оскільки похибка зміщення та дисперсії є дуже низькою."
   ]
  },
  {
   "cell_type": "markdown",
   "id": "895e6941-f3b1-4c9f-878d-bb8813f3e360",
   "metadata": {},
   "source": [
    "## GridSearchCV"
   ]
  },
  {
   "cell_type": "markdown",
   "id": "d8a2658b-f6e5-4b19-be35-278e87a211fe",
   "metadata": {},
   "source": [
    "Eng: Let's find the best value of n_neighbors using GridSearchCV.\n",
    "\n",
    "---\n",
    "\n",
    "Ukr: Знайдемо найкраще значення n_neighbors за допомогою GridSearchCV."
   ]
  },
  {
   "cell_type": "code",
   "execution_count": 32,
   "id": "0259ac8b-7faa-41c8-b8de-cb305fbfd6c9",
   "metadata": {},
   "outputs": [],
   "source": [
    "params = {\n",
    "    'n_neighbors': range(2, 8)\n",
    "}"
   ]
  },
  {
   "cell_type": "code",
   "execution_count": 33,
   "id": "7b11d61b-743a-436e-b59e-3f03f66784a6",
   "metadata": {},
   "outputs": [],
   "source": [
    "knn = KNeighborsClassifier()\n",
    "\n",
    "grid = GridSearchCV(\n",
    "    knn,\n",
    "    param_grid=params,\n",
    "    cv=5,\n",
    "    scoring='f1_weighted'\n",
    ")"
   ]
  },
  {
   "cell_type": "code",
   "execution_count": 34,
   "id": "14e300fd-3afc-471e-84b5-e53346c69815",
   "metadata": {},
   "outputs": [],
   "source": [
    "grid_model = grid.fit(\n",
    "    X_train, Y_train\n",
    ")"
   ]
  },
  {
   "cell_type": "code",
   "execution_count": 35,
   "id": "1a920cb0-24d8-4115-86a6-b30511fb0f97",
   "metadata": {},
   "outputs": [
    {
     "name": "stdout",
     "output_type": "stream",
     "text": [
      "Best Score: 97.84%\n",
      "-------------------\n",
      "Best n_neighbors: 2\n"
     ]
    }
   ],
   "source": [
    "print(\n",
    "    'Best Score: {:.2f}%\\n'.format(grid_model.best_score_ * 100) +\n",
    "    '-' * 19 + '\\n' +\n",
    "    f'Best n_neighbors: {grid_model.best_params_[\"n_neighbors\"]}'\n",
    ")"
   ]
  },
  {
   "cell_type": "markdown",
   "id": "bd70d967-20ab-43c3-9095-02eaa41884cf",
   "metadata": {},
   "source": [
    "# Conclusion"
   ]
  },
  {
   "cell_type": "markdown",
   "id": "aea5ccb9-3902-457c-98c0-7c4e0a0ac1ce",
   "metadata": {},
   "source": [
    "Eng: The KNN model developed has 98% accuracy in classifying a star. The Best Score of GridSearch shows less effective result then the kn3 does.\n",
    "\n",
    "---\n",
    "\n",
    "Ukr: Розроблена модель KNN має точність класифікації зірок становить в середньому 98%. Найкраща оцінка GridSearch показує менш ефективний результат, ніж kn3."
   ]
  },
  {
   "cell_type": "markdown",
   "id": "6804afd2-8c9d-400a-9892-8ca4eaa0cbc8",
   "metadata": {},
   "source": [
    "# (UPD) Saving ML Models"
   ]
  },
  {
   "cell_type": "markdown",
   "id": "5fb80940-e4dc-489b-a6fe-9901c192ec5b",
   "metadata": {},
   "source": [
    "Eng: To save the model we are going to use `joblib` library. Well, let's move on.\n",
    "\n",
    "---\n",
    "\n",
    "Ukr: Для збереження моделі ми скористаємося бібліотекою `joblib`. Що ж, продовжимо."
   ]
  },
  {
   "cell_type": "markdown",
   "id": "9cc476a2-9e1c-4200-b40a-9b1e127c0668",
   "metadata": {},
   "source": [
    "## Importing module"
   ]
  },
  {
   "cell_type": "code",
   "execution_count": 36,
   "id": "637bac40-3fd5-4299-94a2-5b415b2bdfa4",
   "metadata": {},
   "outputs": [],
   "source": [
    "import joblib"
   ]
  },
  {
   "cell_type": "markdown",
   "id": "4dbd42aa-cc2a-42f2-bca5-58b6e4dcb2da",
   "metadata": {},
   "source": [
    "## Dumping Models"
   ]
  },
  {
   "cell_type": "code",
   "execution_count": 37,
   "id": "d4c7848f-5cb0-4635-b7b7-99bcc691e2c1",
   "metadata": {},
   "outputs": [
    {
     "data": {
      "text/plain": [
       "['../output/models/kn3_model.pkl']"
      ]
     },
     "execution_count": 37,
     "metadata": {},
     "output_type": "execute_result"
    }
   ],
   "source": [
    "# Save kn3 model\n",
    "joblib.dump(kn3_model, '../output/models/kn3_model.pkl')"
   ]
  },
  {
   "cell_type": "code",
   "execution_count": 38,
   "id": "210016b5-1a59-4c06-b88d-092bf372f03a",
   "metadata": {},
   "outputs": [
    {
     "data": {
      "text/plain": [
       "['../output/models/gridsearchcv_best_model.pkl']"
      ]
     },
     "execution_count": 38,
     "metadata": {},
     "output_type": "execute_result"
    }
   ],
   "source": [
    "# Save GridSearchCV Best model\n",
    "joblib.dump(grid_model, '../output/models/gridsearchcv_best_model.pkl')"
   ]
  }
 ],
 "metadata": {
  "kernelspec": {
   "display_name": "Python 3 (ipykernel)",
   "language": "python",
   "name": "python3"
  },
  "language_info": {
   "codemirror_mode": {
    "name": "ipython",
    "version": 3
   },
   "file_extension": ".py",
   "mimetype": "text/x-python",
   "name": "python",
   "nbconvert_exporter": "python",
   "pygments_lexer": "ipython3",
   "version": "3.11.5"
  }
 },
 "nbformat": 4,
 "nbformat_minor": 5
}
